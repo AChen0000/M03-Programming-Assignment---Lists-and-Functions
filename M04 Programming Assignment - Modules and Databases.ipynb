{
 "cells": [
  {
   "cell_type": "code",
   "execution_count": null,
   "id": "dc97ba62-f110-410d-8046-af2c872bca9f",
   "metadata": {},
   "outputs": [],
   "source": [
    "#7.4\n",
    "things = [\"mozzarella\", \"cinderella\", \"salmonella\"]\n"
   ]
  },
  {
   "cell_type": "code",
   "execution_count": null,
   "id": "9c002bc6-6196-4d28-92f8-c4a135b9e93e",
   "metadata": {},
   "outputs": [],
   "source": [
    "#7.5\n",
    "things[1] = things[1].capitalize()\n",
    "print(things)"
   ]
  },
  {
   "cell_type": "code",
   "execution_count": null,
   "id": "34afa53d-15b4-4d0c-8e42-0b9082353c3d",
   "metadata": {},
   "outputs": [],
   "source": [
    "#7.6\n",
    "things[0] = things[0].upper()\n",
    "print(things)\n"
   ]
  },
  {
   "cell_type": "code",
   "execution_count": null,
   "id": "789c8d81-c4b7-4b6c-8fad-bec54ba2dc26",
   "metadata": {},
   "outputs": [],
   "source": [
    "#7.7\n",
    "del things[2]\n",
    "print(things)\n"
   ]
  },
  {
   "cell_type": "code",
   "execution_count": null,
   "id": "6ae7ec7a-e9cc-4328-b41f-829df0dc813c",
   "metadata": {},
   "outputs": [],
   "source": [
    "#9.1\n",
    "def good():\n",
    "    return ['Harry', 'Ron', 'Hermione']\n"
   ]
  },
  {
   "cell_type": "code",
   "execution_count": null,
   "id": "4c340e34-3c07-4917-a2ef-19f63178aeed",
   "metadata": {},
   "outputs": [],
   "source": [
    "#9.2\n",
    "def get_odds():\n",
    "    for number in range(1, 10, 2):\n",
    "        yield number\n",
    "for i, odd in enumerate(get_odds()):\n",
    "    if i == 2: \n",
    "        print(\"The third odd number is:\", odd)\n",
    "        break\n"
   ]
  }
 ],
 "metadata": {
  "kernelspec": {
   "display_name": "anaconda-panel-2023.05-py310",
   "language": "python",
   "name": "conda-env-anaconda-panel-2023.05-py310-py"
  },
  "language_info": {
   "codemirror_mode": {
    "name": "ipython",
    "version": 3
   },
   "file_extension": ".py",
   "mimetype": "text/x-python",
   "name": "python",
   "nbconvert_exporter": "python",
   "pygments_lexer": "ipython3",
   "version": "3.11.4"
  }
 },
 "nbformat": 4,
 "nbformat_minor": 5
}
